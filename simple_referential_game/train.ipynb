{
 "cells": [
  {
   "cell_type": "code",
   "execution_count": null,
   "metadata": {},
   "outputs": [],
   "source": [
    "import torch\n",
    "import torch.nn as nn\n",
    "import torch.optim as optim\n",
    "import random\n",
    "import os ; os.chdir('d:/Git_repos/MARL/simple_referential_game')\n",
    "from env import ReferentialGame\n",
    "from agents import Speaker, Listener"
   ]
  },
  {
   "cell_type": "code",
   "execution_count": null,
   "metadata": {},
   "outputs": [],
   "source": [
    "# Define Environment & Agents\n",
    "vocab_size, num_objects = 5, 3\n",
    "env = ReferentialGame(vocab_size, num_objects)\n",
    "speaker = Speaker(vocab_size, num_objects)\n",
    "listener = Listener(vocab_size, num_objects)\n",
    "\n",
    "# Optimizer & Loss Function\n",
    "optimizer = optim.Adam(list(speaker.parameters()) + list(listener.parameters()), lr=0.01)\n",
    "criterion = nn.CrossEntropyLoss()\n",
    "\n",
    "# Training Loop\n",
    "num_episodes = 5000\n",
    "for episode in range(num_episodes):\n",
    "    target_object = env.reset()  # Pick a random object\n",
    "\n",
    "    # Encode the target object as a one-hot vector\n",
    "    speaker_input = torch.eye(num_objects)[target_object].unsqueeze(0)  \n",
    "    message_probs = speaker(speaker_input)  \n",
    "    speaker_message = torch.argmax(message_probs, dim=-1)  # Pick the most likely word\n",
    "\n",
    "    # Convert message into one-hot encoding\n",
    "    message_one_hot = torch.eye(vocab_size)[speaker_message]  \n",
    "\n",
    "    # Listener tries to guess the object\n",
    "    listener_probs = listener(message_one_hot)\n",
    "    listener_choice = torch.argmax(listener_probs, dim=-1).item()  # Pick most likely object\n",
    "\n",
    "    # Compute reward based on listener's correctness\n",
    "    reward = 1 if listener_choice == target_object else 0\n",
    "\n",
    "    # Compute loss & update models\n",
    "    loss = criterion(listener_probs, torch.tensor([target_object]))\n",
    "    optimizer.zero_grad()\n",
    "    loss.backward()\n",
    "    optimizer.step()\n",
    "\n",
    "    # Print Progress\n",
    "    if episode % 500 == 0:\n",
    "        print(f\"Episode {episode}: Reward = {reward}, Loss = {loss.item()}\")\n"
   ]
  },
  {
   "cell_type": "code",
   "execution_count": null,
   "metadata": {},
   "outputs": [],
   "source": []
  },
  {
   "cell_type": "code",
   "execution_count": null,
   "metadata": {},
   "outputs": [],
   "source": []
  },
  {
   "cell_type": "code",
   "execution_count": null,
   "metadata": {},
   "outputs": [],
   "source": []
  },
  {
   "cell_type": "code",
   "execution_count": null,
   "metadata": {},
   "outputs": [],
   "source": []
  },
  {
   "cell_type": "code",
   "execution_count": null,
   "metadata": {},
   "outputs": [],
   "source": []
  }
 ],
 "metadata": {
  "kernelspec": {
   "display_name": "Python 3 (ipykernel)",
   "language": "python",
   "name": "python3"
  },
  "language_info": {
   "codemirror_mode": {
    "name": "ipython",
    "version": 3
   },
   "file_extension": ".py",
   "mimetype": "text/x-python",
   "name": "python",
   "nbconvert_exporter": "python",
   "pygments_lexer": "ipython3",
   "version": "3.12.4"
  }
 },
 "nbformat": 4,
 "nbformat_minor": 2
}
